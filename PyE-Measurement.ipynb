{
 "cells": [
  {
   "cell_type": "markdown",
   "id": "bb04c972-9563-4657-9b0c-181b0dc1b01f",
   "metadata": {},
   "source": [
    "# PyEmittance Measurement"
   ]
  },
  {
   "cell_type": "code",
   "execution_count": 1,
   "id": "cfc0c4b3-6a09-4bb3-a3a8-f48e283ae9fd",
   "metadata": {},
   "outputs": [],
   "source": [
    "%load_ext autoreload\n",
    "%autoreload 2"
   ]
  },
  {
   "cell_type": "code",
   "execution_count": 2,
   "id": "469a923e-84c2-4a7c-b02b-e18fb192fb87",
   "metadata": {},
   "outputs": [],
   "source": [
    "import sys\n",
    "sys.path.insert(0, '/usr/local/lcls/tools/python/toolbox')"
   ]
  },
  {
   "cell_type": "code",
   "execution_count": 3,
   "id": "771608e1-cc20-4942-940f-6b1f5b842ffb",
   "metadata": {},
   "outputs": [
    {
     "data": {
      "text/plain": [
       "'/home/physics3/cmayes/2022-12-05'"
      ]
     },
     "execution_count": 3,
     "metadata": {},
     "output_type": "execute_result"
    }
   ],
   "source": [
    "from pyemittance import PyEmittance\n",
    "import numpy as np\n",
    "from epics import caget, caput\n",
    "import os\n",
    "import matplotlib.pyplot as plt\n",
    "import json\n",
    "from glob import glob\n",
    "\n",
    "root_dir = os.getcwd()\n",
    "root_dir"
   ]
  },
  {
   "cell_type": "code",
   "execution_count": 4,
   "id": "38859141-8d5c-4e24-a7f0-624c35a2c608",
   "metadata": {},
   "outputs": [],
   "source": [
    "# Run this cell only ONCE!!\n",
    "\n",
    "#os.mkdir('bg_images') \n",
    "#\n",
    "#os.mkdir('data_saving') \n",
    "#os.chdir('data_saving') \n",
    "#\n",
    "#os.mkdir('saved_fits')\n",
    "#os.mkdir('saved_images')\n",
    "#os.mkdir('monitoring')\n",
    "#os.mkdir('summaries')\n",
    "#os.mkdir('raw_saves')\n",
    "#os.mkdir('emit_saves')\n",
    "#os.mkdir('mon_saves')\n",
    "#os.mkdir('xopt_saves')\n",
    "\n",
    "#os.chdir('..') "
   ]
  },
  {
   "cell_type": "code",
   "execution_count": 5,
   "id": "5a4d4896-4b87-42b0-b8cc-fb9b3ff863cb",
   "metadata": {},
   "outputs": [
    {
     "name": "stdout",
     "output_type": "stream",
     "text": [
      "/home/physics3/cmayes/2022-12-05\n"
     ]
    }
   ],
   "source": [
    "!pwd"
   ]
  },
  {
   "cell_type": "code",
   "execution_count": 6,
   "id": "7fe333ce-941b-4833-828a-078e70a41005",
   "metadata": {},
   "outputs": [],
   "source": [
    "# Check all directories exist\n",
    "\n",
    "image_path = root_dir+'/bg_images/'\n",
    "assert os.path.exists(image_path)\n",
    "\n",
    "dict_saves = {\n",
    " 'fits':       root_dir+'/data_saving/saved_fits/',\n",
    " 'images':     root_dir+'/data_saving/saved_images/',\n",
    " 'monitoring': root_dir+'/data_saving/monitoring/',\n",
    " 'summaries':  root_dir+'/data_saving/summaries/',\n",
    " 'raw_saves':  root_dir+'/data_saving/raw_saves/',\n",
    " 'emit_saves': root_dir+'/data_saving/emit_saves/',\n",
    " 'mon_saves':  root_dir+'/data_saving/mon_saves/',\n",
    " 'xopt_saves': root_dir+'/data_saving/xopt_saves/'\n",
    "             }\n",
    "\n",
    "for key in dict_saves:\n",
    "    assert os.path.exists(dict_saves[key])"
   ]
  },
  {
   "cell_type": "code",
   "execution_count": 55,
   "id": "6271d9c6-13e2-481f-8c5a-263edb7abe8b",
   "metadata": {},
   "outputs": [],
   "source": [
    "#meas = PyEmittance(config_name='LCLS2_DIAG0', online=True)\n",
    "\n",
    "meas = PyEmittance(config_name='LCLS2_OTR3', online=True)\n",
    "\n",
    "#meas.quad_init = [-3.0, -2.5, -2.0, -1.5, -1.0, -0.5]\n",
    "\n",
    "#meas.quad_init = [1.0, 2.0, 3.0, 4.0, 5.0, 6.0, 7.0, 8.0]\n",
    "#meas.quad_init = [1.0, 2.0, 3.0, 4.0, 5.0]\n",
    "#meas.quad_init = [-2.7, -2.5,-2.0, -1.5]\n",
    "\n",
    "meas.quad_init = list(np.linspace(-2.6, -1.8, 7))\n",
    "#meas.quad_init = list(np.linspace(-2.2, -1.75, 7))\n",
    "\n",
    "meas.add_pnts = True\n",
    "meas.num_points = 7   # only matters if adapt_ranges is used.\n",
    "meas.adapt_ranges = True  # If helping, will ensure there are at least 7 total points\n",
    "meas.check_sym = True\n",
    "meas.infl_check = True\n",
    "\n",
    "\n",
    "# Turning this off will ignore \"quad_tol\"\n",
    "meas.use_prev_meas = False\n",
    "\n",
    "meas.config_dict['savepaths'] = dict_saves\n",
    "meas.config_dict['img_proc']['subtract_bg'] = True\n",
    "\n",
    "\n",
    "meas.config_dict['img_proc']['n_to_acquire']=3\n",
    "meas.save_runs = True\n",
    "meas.calc_bmag = True # SET THIS TO FALSE IF TWISS0 NOT UPDATED\n",
    "\n",
    "# Put the correct file location of the Background Image\n",
    "\n",
    "image_file_name = \"img_avg_2022-12-06_01-27-49-373064.npy\"  ### CHANGE THIS!!! <----------\n",
    "bg_file_name = image_path + image_file_name\n",
    "\n",
    "assert os.path.exists(bg_file_name)\n",
    "\n",
    "meas.config_dict['img_proc']['background_im']=bg_file_name"
   ]
  },
  {
   "cell_type": "code",
   "execution_count": 34,
   "id": "e3b6d4fb-482d-4988-845b-c93d028033f9",
   "metadata": {},
   "outputs": [
    {
     "data": {
      "text/plain": [
       "-2.534934796662445"
      ]
     },
     "execution_count": 34,
     "metadata": {},
     "output_type": "execute_result"
    }
   ],
   "source": [
    "caget(\"QUAD:HTR:120:BCTRL\")"
   ]
  },
  {
   "cell_type": "code",
   "execution_count": 57,
   "id": "376ace3a-138d-4f8c-a930-b129926213e6",
   "metadata": {},
   "outputs": [
    {
     "data": {
      "text/plain": [
       "-2.7"
      ]
     },
     "execution_count": 57,
     "metadata": {},
     "output_type": "execute_result"
    }
   ],
   "source": [
    "q0 = caget(\"QUAD:HTR:120:BCTRL\")\n",
    "q0"
   ]
  },
  {
   "cell_type": "code",
   "execution_count": 58,
   "id": "7d734089-4e44-4001-8aab-f0ad39521462",
   "metadata": {},
   "outputs": [
    {
     "data": {
      "text/plain": [
       "-2.7"
      ]
     },
     "execution_count": 58,
     "metadata": {},
     "output_type": "execute_result"
    }
   ],
   "source": [
    "caput(\"QUAD:HTR:120:BCTRL\", q0)\n",
    "q0"
   ]
  },
  {
   "cell_type": "code",
   "execution_count": 11,
   "id": "ff4218e0-7236-44ac-aa6c-e9696add3d24",
   "metadata": {},
   "outputs": [],
   "source": [
    "#caput(\"QUAD:HTR:120:BCTRL\", q0)"
   ]
  },
  {
   "cell_type": "code",
   "execution_count": 59,
   "id": "e2eec3d7-dfa3-4b3a-81a2-8d5e6144963c",
   "metadata": {},
   "outputs": [
    {
     "name": "stdout",
     "output_type": "stream",
     "text": [
      "Running online!\n",
      "2022-12-06_01-42-39-903647\n",
      "2022-12-06_01-42-40-815182\n",
      "2022-12-06_01-42-41-726052\n",
      "2022-12-06_01-42-44-602031\n",
      "2022-12-06_01-42-45-537990\n",
      "2022-12-06_01-42-46-458237\n",
      "2022-12-06_01-42-49-407135\n",
      "2022-12-06_01-42-50-321307\n",
      "2022-12-06_01-42-51-236131\n",
      "2022-12-06_01-42-54-262192\n",
      "2022-12-06_01-42-55-202956\n",
      "2022-12-06_01-42-56-146228\n",
      "2022-12-06_01-42-59-150785\n",
      "2022-12-06_01-43-00-099346\n",
      "2022-12-06_01-43-01-035092\n",
      "2022-12-06_01-43-04-932338\n",
      "2022-12-06_01-43-05-894300\n",
      "2022-12-06_01-43-06-820897\n",
      "2022-12-06_01-43-09-979054\n",
      "Beam params out of bounds in image 0 out of 3 samples\n",
      "2022-12-06_01-43-10-899014\n",
      "2022-12-06_01-43-11-937915\n",
      "Beam params out of bounds in image 2 out of 3 samples\n",
      "2022-12-06_01-43-14-896681\n",
      "2022-12-06_01-43-15-816529\n",
      "2022-12-06_01-43-16-750774\n",
      "2022-12-06_01-43-19-634006\n",
      "2022-12-06_01-43-20-555916\n",
      "2022-12-06_01-43-21-483503\n",
      "2022-12-06_01-43-24-453194\n",
      "2022-12-06_01-43-25-392282\n",
      "2022-12-06_01-43-26-319595\n",
      "2022-12-06_01-43-29-275688\n",
      "2022-12-06_01-43-30-208844\n",
      "2022-12-06_01-43-31-454551\n",
      "2022-12-06_01-43-34-398470\n",
      "2022-12-06_01-43-35-365255\n",
      "2022-12-06_01-43-36-307844\n",
      "2022-12-06_01-43-39-300457\n",
      "2022-12-06_01-43-40-230284\n",
      "2022-12-06_01-43-41-126113\n",
      "2022-12-06_01-43-44-102408\n",
      "2022-12-06_01-43-45-031346\n",
      "2022-12-06_01-43-45-976307\n",
      "2022-12-06_01-43-48-947349\n",
      "2022-12-06_01-43-49-920059\n",
      "Beam params out of bounds in image 1 out of 3 samples\n",
      "2022-12-06_01-43-50-828073\n",
      "2022-12-06_01-43-53-728920\n",
      "2022-12-06_01-43-54-706429\n",
      "2022-12-06_01-43-55-697913\n",
      "Beam params out of bounds in image 2 out of 3 samples\n",
      "Resampled 0 times, beam still out of bounds \n",
      "\n",
      "xrms 6.84 um, yrms 159.91 um (threshold: min_rms 60.60 um, max_rms 14140.00 um)\n",
      "xamp 6001.90, yamp 2694.19 (amp_thresh: 150, in json)\n",
      "area_x 900285.0, area_y 404129.2 (threshold: 1500, hardcoded)\n",
      "\n",
      "Returning NaNs\n",
      "2022-12-06_01-43-58-630183\n",
      "2022-12-06_01-43-59-544583\n",
      "2022-12-06_01-44-00-482290\n",
      "2022-12-06_01-44-03-478187\n",
      "2022-12-06_01-44-04-422691\n",
      "2022-12-06_01-44-05-389051\n",
      "Beam params out of bounds in image 2 out of 3 samples\n",
      "2022-12-06_01-44-08-711412\n",
      "2022-12-06_01-44-09-653573\n",
      "2022-12-06_01-44-10-585208\n",
      "2022-12-06_01-44-13-532996\n",
      "2022-12-06_01-44-14-541488\n",
      "Beam params out of bounds in image 1 out of 3 samples\n",
      "2022-12-06_01-44-15-472630\n",
      "Resampled 0 times, beam still out of bounds \n",
      "\n",
      "xrms 145.20 um, yrms 5.10 um (threshold: min_rms 60.60 um, max_rms 14140.00 um)\n",
      "xamp 2990.09, yamp 10188.83 (amp_thresh: 150, in json)\n",
      "area_x 448513.0, area_y 1528324.2 (threshold: 1500, hardcoded)\n",
      "\n",
      "Returning NaNs\n",
      "2022-12-06_01-44-18-543928\n",
      "2022-12-06_01-44-19-447746\n",
      "2022-12-06_01-44-20-401231\n",
      "2022-12-06_01-44-23-410146\n",
      "2022-12-06_01-44-24-376230\n",
      "2022-12-06_01-44-25-336142\n",
      "Beam params out of bounds in image 2 out of 3 samples\n",
      "2022-12-06_01-44-28-364357\n",
      "2022-12-06_01-44-29-331882\n",
      "2022-12-06_01-44-30-279318\n",
      "2022-12-06_01-44-33-320117\n",
      "2022-12-06_01-44-34-301302\n",
      "2022-12-06_01-44-35-263739\n",
      "2022-12-06_01-44-38-326799\n",
      "2022-12-06_01-44-39-299116\n",
      "2022-12-06_01-44-40-283087\n",
      "2022-12-06_01-44-43-335233\n",
      "2022-12-06_01-44-44-305663\n",
      "2022-12-06_01-44-45-282237\n",
      "2022-12-06_01-44-48-332542\n",
      "2022-12-06_01-44-49-266531\n",
      "2022-12-06_01-44-50-211741\n"
     ]
    },
    {
     "data": {
      "image/png": "[encoded data removed]",
      "text/plain": [
       "<Figure size 432x288 with 1 Axes>"
      ]
     },
     "metadata": {
      "needs_background": "light"
     },
     "output_type": "display_data"
    },
    {
     "data": {
      "image/png": "[encoded data removed]",
      "text/plain": [
       "<Figure size 432x288 with 1 Axes>"
      ]
     },
     "metadata": {
      "needs_background": "light"
     },
     "output_type": "display_data"
    },
    {
     "data": {
      "image/png": "[encoded data removed]",
      "text/plain": [
       "<Figure size 432x288 with 1 Axes>"
      ]
     },
     "metadata": {
      "needs_background": "light"
     },
     "output_type": "display_data"
    },
    {
     "data": {
      "text/plain": [
       "1"
      ]
     },
     "execution_count": 59,
     "metadata": {},
     "output_type": "execute_result"
    }
   ],
   "source": [
    "meas.online = True\n",
    "\n",
    "# if no background image, just don't do background subtraction\n",
    "meas.config_dict['img_proc']['subtract_bg'] = True\n",
    "\n",
    "q0 = caget(\"QUAD:HTR:120:BCTRL\")\n",
    "  \n",
    "res = meas.measure_emittance()\n",
    "\n",
    "caput(\"QUAD:HTR:120:BCTRL\", q0)"
   ]
  },
  {
   "cell_type": "code",
   "execution_count": 60,
   "id": "7b500f03-7354-4e2d-b5ab-b6f6b9ce6c20",
   "metadata": {},
   "outputs": [
    {
     "data": {
      "text/plain": [
       "(4.578498570645569e-07, 5.358187801506675e-07)"
      ]
     },
     "execution_count": 60,
     "metadata": {},
     "output_type": "execute_result"
    }
   ],
   "source": [
    "res['norm_emit_x'], res['norm_emit_y']"
   ]
  },
  {
   "cell_type": "code",
   "execution_count": 61,
   "id": "26d81636-be79-444e-9293-49dc62981158",
   "metadata": {},
   "outputs": [
    {
     "data": {
      "text/plain": [
       "'pyemittance_data_2022-12-06_01-44-52-392691.json'"
      ]
     },
     "execution_count": 61,
     "metadata": {},
     "output_type": "execute_result"
    }
   ],
   "source": [
    "from glob import glob\n",
    "jsonfile1 = [os.path.basename(x) for x in sorted(glob( \"./data_saving/saved_fits/pyemittance_data_*.json\"))][-1]\n",
    "jsonfile1"
   ]
  },
  {
   "cell_type": "code",
   "execution_count": 62,
   "id": "d3352577-3610-483a-9a39-110fd5be7d11",
   "metadata": {},
   "outputs": [],
   "source": [
    "root = '/home/physics3/cmayes/2022-12-05'"
   ]
  },
  {
   "cell_type": "code",
   "execution_count": 63,
   "id": "0da0255b-cf75-4944-8f05-169aa332c8cf",
   "metadata": {},
   "outputs": [
    {
     "data": {
      "text/plain": [
       "[-3.4298696611367263,\n",
       " -3.1898728589471226,\n",
       " -2.949876056757517,\n",
       " -2.7098792545679125,\n",
       " -2.4698824523783083,\n",
       " -2.2298856501887037,\n",
       " -1.989888847999099]"
      ]
     },
     "execution_count": 63,
     "metadata": {},
     "output_type": "execute_result"
    }
   ],
   "source": [
    "res[f'quadvalsx']"
   ]
  },
  {
   "cell_type": "code",
   "execution_count": 66,
   "id": "77f80d0c-a37d-487d-aaba-23b3cddd3837",
   "metadata": {},
   "outputs": [
    {
     "ename": "TypeError",
     "evalue": "'<=' not supported between instances of 'numpy.ndarray' and 'str'",
     "output_type": "error",
     "traceback": [
      "\u001b[0;31m---------------------------------------------------------------------------\u001b[0m",
      "\u001b[0;31mTypeError\u001b[0m                                 Traceback (most recent call last)",
      "Input \u001b[0;32mIn [66]\u001b[0m, in \u001b[0;36m<cell line: 22>\u001b[0;34m()\u001b[0m\n\u001b[1;32m     19\u001b[0m     plt\u001b[38;5;241m.\u001b[39msavefig(plotfile)\n\u001b[1;32m     20\u001b[0m     \u001b[38;5;28;01mreturn\u001b[39;00m plotfile\n\u001b[0;32m---> 22\u001b[0m \u001b[43mplot_emittance_data\u001b[49m\u001b[43m(\u001b[49m\u001b[43mres\u001b[49m\u001b[43m,\u001b[49m\u001b[43m \u001b[49m\u001b[43mjsonfile1\u001b[49m\u001b[43m)\u001b[49m\n",
      "Input \u001b[0;32mIn [66]\u001b[0m, in \u001b[0;36mplot_emittance_data\u001b[0;34m(data, jsonfile)\u001b[0m\n\u001b[1;32m      9\u001b[0m     key2 \u001b[38;5;241m=\u001b[39m \u001b[38;5;124m'\u001b[39m\u001b[38;5;124mscreen_sigma_33\u001b[39m\u001b[38;5;124m'\u001b[39m\n\u001b[1;32m     10\u001b[0m ylabel \u001b[38;5;241m=\u001b[39m \u001b[38;5;124mrf\u001b[39m\u001b[38;5;124m'\u001b[39m\u001b[38;5;124m$\u001b[39m\u001b[38;5;124m\\\u001b[39m\u001b[38;5;124msigma_\u001b[39m\u001b[38;5;132;01m{\u001b[39;00mdim\u001b[38;5;132;01m}\u001b[39;00m\u001b[38;5;124m$ ($\u001b[39m\u001b[38;5;124m\\\u001b[39m\u001b[38;5;124mmu$m)\u001b[39m\u001b[38;5;124m'\u001b[39m\n\u001b[0;32m---> 11\u001b[0m \u001b[43max\u001b[49m\u001b[38;5;241;43m.\u001b[39;49m\u001b[43merrorbar\u001b[49m\u001b[43m(\u001b[49m\u001b[43mdata\u001b[49m\u001b[43m[\u001b[49m\u001b[38;5;124;43mf\u001b[39;49m\u001b[38;5;124;43m'\u001b[39;49m\u001b[38;5;124;43mquadvals\u001b[39;49m\u001b[38;5;132;43;01m{\u001b[39;49;00m\u001b[43mdim\u001b[49m\u001b[38;5;132;43;01m}\u001b[39;49;00m\u001b[38;5;124;43m'\u001b[39;49m\u001b[43m]\u001b[49m\u001b[43m,\u001b[49m\u001b[43m \u001b[49m\u001b[38;5;241;43m1e6\u001b[39;49m\u001b[38;5;241;43m*\u001b[39;49m\u001b[43mnp\u001b[49m\u001b[38;5;241;43m.\u001b[39;49m\u001b[43marray\u001b[49m\u001b[43m(\u001b[49m\u001b[43mdata\u001b[49m\u001b[43m[\u001b[49m\u001b[38;5;124;43mf\u001b[39;49m\u001b[38;5;124;43m'\u001b[39;49m\u001b[38;5;124;43mbeamsizes\u001b[39;49m\u001b[38;5;132;43;01m{\u001b[39;49;00m\u001b[43mdim\u001b[49m\u001b[38;5;132;43;01m}\u001b[39;49;00m\u001b[38;5;124;43m'\u001b[39;49m\u001b[43m]\u001b[49m\u001b[43m)\u001b[49m\u001b[43m,\u001b[49m\n\u001b[1;32m     12\u001b[0m \u001b[43m            \u001b[49m\u001b[43myerr\u001b[49m\u001b[38;5;241;43m=\u001b[39;49m\u001b[38;5;241;43m1e6\u001b[39;49m\u001b[38;5;241;43m*\u001b[39;49m\u001b[43mnp\u001b[49m\u001b[38;5;241;43m.\u001b[39;49m\u001b[43marray\u001b[49m\u001b[43m(\u001b[49m\u001b[43mdata\u001b[49m\u001b[43m[\u001b[49m\u001b[38;5;124;43mf\u001b[39;49m\u001b[38;5;124;43m'\u001b[39;49m\u001b[38;5;124;43mbeamsizeserr\u001b[39;49m\u001b[38;5;132;43;01m{\u001b[39;49;00m\u001b[43mdim\u001b[49m\u001b[38;5;132;43;01m}\u001b[39;49;00m\u001b[38;5;124;43m'\u001b[39;49m\u001b[43m]\u001b[49m\u001b[43m)\u001b[49m\u001b[43m,\u001b[49m\u001b[43m \u001b[49m\u001b[43mfmt\u001b[49m\u001b[38;5;241;43m=\u001b[39;49m\u001b[38;5;124;43m'\u001b[39;49m\u001b[38;5;124;43mo\u001b[39;49m\u001b[38;5;124;43m'\u001b[39;49m\u001b[43m,\u001b[49m\u001b[43m \u001b[49m\u001b[43mlabel\u001b[49m\u001b[38;5;241;43m=\u001b[39;49m\u001b[38;5;124;43m'\u001b[39;49m\u001b[38;5;124;43mMeasurement\u001b[39;49m\u001b[38;5;124;43m'\u001b[39;49m\u001b[43m \u001b[49m\u001b[43m)\u001b[49m\n\u001b[1;32m     13\u001b[0m ax\u001b[38;5;241m.\u001b[39mplot(    data[\u001b[38;5;124mf\u001b[39m\u001b[38;5;124m'\u001b[39m\u001b[38;5;124mquadvals\u001b[39m\u001b[38;5;132;01m{\u001b[39;00mdim\u001b[38;5;132;01m}\u001b[39;00m\u001b[38;5;124m'\u001b[39m],  \u001b[38;5;241m1e6\u001b[39m\u001b[38;5;241m*\u001b[39mnp\u001b[38;5;241m.\u001b[39msqrt(data[key2]),  label\u001b[38;5;241m=\u001b[39m\u001b[38;5;124m'\u001b[39m\u001b[38;5;124mModel\u001b[39m\u001b[38;5;124m'\u001b[39m)\n\u001b[1;32m     14\u001b[0m ax\u001b[38;5;241m.\u001b[39mset_ylabel(ylabel)\n",
      "File \u001b[0;32m/usr/local/lcls/package/anaconda/envs/python3.9envs/rhel7_test/lib/python3.9/site-packages/matplotlib/__init__.py:1412\u001b[0m, in \u001b[0;36m_preprocess_data.<locals>.inner\u001b[0;34m(ax, data, *args, **kwargs)\u001b[0m\n\u001b[1;32m   1409\u001b[0m \u001b[38;5;129m@functools\u001b[39m\u001b[38;5;241m.\u001b[39mwraps(func)\n\u001b[1;32m   1410\u001b[0m \u001b[38;5;28;01mdef\u001b[39;00m \u001b[38;5;21minner\u001b[39m(ax, \u001b[38;5;241m*\u001b[39margs, data\u001b[38;5;241m=\u001b[39m\u001b[38;5;28;01mNone\u001b[39;00m, \u001b[38;5;241m*\u001b[39m\u001b[38;5;241m*\u001b[39mkwargs):\n\u001b[1;32m   1411\u001b[0m     \u001b[38;5;28;01mif\u001b[39;00m data \u001b[38;5;129;01mis\u001b[39;00m \u001b[38;5;28;01mNone\u001b[39;00m:\n\u001b[0;32m-> 1412\u001b[0m         \u001b[38;5;28;01mreturn\u001b[39;00m \u001b[43mfunc\u001b[49m\u001b[43m(\u001b[49m\u001b[43max\u001b[49m\u001b[43m,\u001b[49m\u001b[43m \u001b[49m\u001b[38;5;241;43m*\u001b[39;49m\u001b[38;5;28;43mmap\u001b[39;49m\u001b[43m(\u001b[49m\u001b[43msanitize_sequence\u001b[49m\u001b[43m,\u001b[49m\u001b[43m \u001b[49m\u001b[43margs\u001b[49m\u001b[43m)\u001b[49m\u001b[43m,\u001b[49m\u001b[43m \u001b[49m\u001b[38;5;241;43m*\u001b[39;49m\u001b[38;5;241;43m*\u001b[39;49m\u001b[43mkwargs\u001b[49m\u001b[43m)\u001b[49m\n\u001b[1;32m   1414\u001b[0m     bound \u001b[38;5;241m=\u001b[39m new_sig\u001b[38;5;241m.\u001b[39mbind(ax, \u001b[38;5;241m*\u001b[39margs, \u001b[38;5;241m*\u001b[39m\u001b[38;5;241m*\u001b[39mkwargs)\n\u001b[1;32m   1415\u001b[0m     auto_label \u001b[38;5;241m=\u001b[39m (bound\u001b[38;5;241m.\u001b[39marguments\u001b[38;5;241m.\u001b[39mget(label_namer)\n\u001b[1;32m   1416\u001b[0m                   \u001b[38;5;129;01mor\u001b[39;00m bound\u001b[38;5;241m.\u001b[39mkwargs\u001b[38;5;241m.\u001b[39mget(label_namer))\n",
      "File \u001b[0;32m/usr/local/lcls/package/anaconda/envs/python3.9envs/rhel7_test/lib/python3.9/site-packages/matplotlib/axes/_axes.py:3467\u001b[0m, in \u001b[0;36mAxes.errorbar\u001b[0;34m(self, x, y, yerr, xerr, fmt, ecolor, elinewidth, capsize, barsabove, lolims, uplims, xlolims, xuplims, errorevery, capthick, **kwargs)\u001b[0m\n\u001b[1;32m   3461\u001b[0m \u001b[38;5;66;03m# This is like\u001b[39;00m\n\u001b[1;32m   3462\u001b[0m \u001b[38;5;66;03m#     elow, ehigh = np.broadcast_to(...)\u001b[39;00m\n\u001b[1;32m   3463\u001b[0m \u001b[38;5;66;03m#     return dep - elow * ~lolims, dep + ehigh * ~uplims\u001b[39;00m\n\u001b[1;32m   3464\u001b[0m \u001b[38;5;66;03m# except that broadcast_to would strip units.\u001b[39;00m\n\u001b[1;32m   3465\u001b[0m low, high \u001b[38;5;241m=\u001b[39m dep \u001b[38;5;241m+\u001b[39m np\u001b[38;5;241m.\u001b[39mrow_stack([\u001b[38;5;241m-\u001b[39m(\u001b[38;5;241m1\u001b[39m \u001b[38;5;241m-\u001b[39m lolims), \u001b[38;5;241m1\u001b[39m \u001b[38;5;241m-\u001b[39m uplims]) \u001b[38;5;241m*\u001b[39m err\n\u001b[0;32m-> 3467\u001b[0m barcols\u001b[38;5;241m.\u001b[39mappend(\u001b[43mlines_func\u001b[49m\u001b[43m(\u001b[49m\n\u001b[1;32m   3468\u001b[0m \u001b[43m    \u001b[49m\u001b[38;5;241;43m*\u001b[39;49m\u001b[43mapply_mask\u001b[49m\u001b[43m(\u001b[49m\u001b[43m[\u001b[49m\u001b[43mindep\u001b[49m\u001b[43m,\u001b[49m\u001b[43m \u001b[49m\u001b[43mlow\u001b[49m\u001b[43m,\u001b[49m\u001b[43m \u001b[49m\u001b[43mhigh\u001b[49m\u001b[43m]\u001b[49m\u001b[43m,\u001b[49m\u001b[43m \u001b[49m\u001b[43meverymask\u001b[49m\u001b[43m)\u001b[49m\u001b[43m,\u001b[49m\u001b[43m \u001b[49m\u001b[38;5;241;43m*\u001b[39;49m\u001b[38;5;241;43m*\u001b[39;49m\u001b[43meb_lines_style\u001b[49m\u001b[43m)\u001b[49m)\n\u001b[1;32m   3469\u001b[0m \u001b[38;5;66;03m# Normal errorbars for points without upper/lower limits.\u001b[39;00m\n\u001b[1;32m   3470\u001b[0m nolims \u001b[38;5;241m=\u001b[39m \u001b[38;5;241m~\u001b[39m(lolims \u001b[38;5;241m|\u001b[39m uplims)\n",
      "File \u001b[0;32m/usr/local/lcls/package/anaconda/envs/python3.9envs/rhel7_test/lib/python3.9/site-packages/matplotlib/__init__.py:1412\u001b[0m, in \u001b[0;36m_preprocess_data.<locals>.inner\u001b[0;34m(ax, data, *args, **kwargs)\u001b[0m\n\u001b[1;32m   1409\u001b[0m \u001b[38;5;129m@functools\u001b[39m\u001b[38;5;241m.\u001b[39mwraps(func)\n\u001b[1;32m   1410\u001b[0m \u001b[38;5;28;01mdef\u001b[39;00m \u001b[38;5;21minner\u001b[39m(ax, \u001b[38;5;241m*\u001b[39margs, data\u001b[38;5;241m=\u001b[39m\u001b[38;5;28;01mNone\u001b[39;00m, \u001b[38;5;241m*\u001b[39m\u001b[38;5;241m*\u001b[39mkwargs):\n\u001b[1;32m   1411\u001b[0m     \u001b[38;5;28;01mif\u001b[39;00m data \u001b[38;5;129;01mis\u001b[39;00m \u001b[38;5;28;01mNone\u001b[39;00m:\n\u001b[0;32m-> 1412\u001b[0m         \u001b[38;5;28;01mreturn\u001b[39;00m \u001b[43mfunc\u001b[49m\u001b[43m(\u001b[49m\u001b[43max\u001b[49m\u001b[43m,\u001b[49m\u001b[43m \u001b[49m\u001b[38;5;241;43m*\u001b[39;49m\u001b[38;5;28;43mmap\u001b[39;49m\u001b[43m(\u001b[49m\u001b[43msanitize_sequence\u001b[49m\u001b[43m,\u001b[49m\u001b[43m \u001b[49m\u001b[43margs\u001b[49m\u001b[43m)\u001b[49m\u001b[43m,\u001b[49m\u001b[43m \u001b[49m\u001b[38;5;241;43m*\u001b[39;49m\u001b[38;5;241;43m*\u001b[39;49m\u001b[43mkwargs\u001b[49m\u001b[43m)\u001b[49m\n\u001b[1;32m   1414\u001b[0m     bound \u001b[38;5;241m=\u001b[39m new_sig\u001b[38;5;241m.\u001b[39mbind(ax, \u001b[38;5;241m*\u001b[39margs, \u001b[38;5;241m*\u001b[39m\u001b[38;5;241m*\u001b[39mkwargs)\n\u001b[1;32m   1415\u001b[0m     auto_label \u001b[38;5;241m=\u001b[39m (bound\u001b[38;5;241m.\u001b[39marguments\u001b[38;5;241m.\u001b[39mget(label_namer)\n\u001b[1;32m   1416\u001b[0m                   \u001b[38;5;129;01mor\u001b[39;00m bound\u001b[38;5;241m.\u001b[39mkwargs\u001b[38;5;241m.\u001b[39mget(label_namer))\n",
      "File \u001b[0;32m/usr/local/lcls/package/anaconda/envs/python3.9envs/rhel7_test/lib/python3.9/site-packages/matplotlib/axes/_axes.py:1142\u001b[0m, in \u001b[0;36mAxes.vlines\u001b[0;34m(self, x, ymin, ymax, colors, linestyles, label, **kwargs)\u001b[0m\n\u001b[1;32m   1139\u001b[0m lines\u001b[38;5;241m.\u001b[39mupdate(kwargs)\n\u001b[1;32m   1141\u001b[0m \u001b[38;5;28;01mif\u001b[39;00m \u001b[38;5;28mlen\u001b[39m(x) \u001b[38;5;241m>\u001b[39m \u001b[38;5;241m0\u001b[39m:\n\u001b[0;32m-> 1142\u001b[0m     minx \u001b[38;5;241m=\u001b[39m \u001b[43mx\u001b[49m\u001b[38;5;241;43m.\u001b[39;49m\u001b[43mmin\u001b[49m\u001b[43m(\u001b[49m\u001b[43m)\u001b[49m\n\u001b[1;32m   1143\u001b[0m     maxx \u001b[38;5;241m=\u001b[39m x\u001b[38;5;241m.\u001b[39mmax()\n\u001b[1;32m   1144\u001b[0m     miny \u001b[38;5;241m=\u001b[39m \u001b[38;5;28mmin\u001b[39m(ymin\u001b[38;5;241m.\u001b[39mmin(), ymax\u001b[38;5;241m.\u001b[39mmin())\n",
      "File \u001b[0;32m/usr/local/lcls/package/anaconda/envs/python3.9envs/rhel7_test/lib/python3.9/site-packages/numpy/ma/core.py:5703\u001b[0m, in \u001b[0;36mMaskedArray.min\u001b[0;34m(self, axis, out, fill_value, keepdims)\u001b[0m\n\u001b[1;32m   5701\u001b[0m \u001b[38;5;66;03m# No explicit output\u001b[39;00m\n\u001b[1;32m   5702\u001b[0m \u001b[38;5;28;01mif\u001b[39;00m out \u001b[38;5;129;01mis\u001b[39;00m \u001b[38;5;28;01mNone\u001b[39;00m:\n\u001b[0;32m-> 5703\u001b[0m     result \u001b[38;5;241m=\u001b[39m \u001b[38;5;28;43mself\u001b[39;49m\u001b[38;5;241;43m.\u001b[39;49m\u001b[43mfilled\u001b[49m\u001b[43m(\u001b[49m\u001b[43mfill_value\u001b[49m\u001b[43m)\u001b[49m\u001b[38;5;241;43m.\u001b[39;49m\u001b[43mmin\u001b[49m\u001b[43m(\u001b[49m\n\u001b[1;32m   5704\u001b[0m \u001b[43m        \u001b[49m\u001b[43maxis\u001b[49m\u001b[38;5;241;43m=\u001b[39;49m\u001b[43maxis\u001b[49m\u001b[43m,\u001b[49m\u001b[43m \u001b[49m\u001b[43mout\u001b[49m\u001b[38;5;241;43m=\u001b[39;49m\u001b[43mout\u001b[49m\u001b[43m,\u001b[49m\u001b[43m \u001b[49m\u001b[38;5;241;43m*\u001b[39;49m\u001b[38;5;241;43m*\u001b[39;49m\u001b[43mkwargs\u001b[49m\u001b[43m)\u001b[49m\u001b[38;5;241m.\u001b[39mview(\u001b[38;5;28mtype\u001b[39m(\u001b[38;5;28mself\u001b[39m))\n\u001b[1;32m   5705\u001b[0m     \u001b[38;5;28;01mif\u001b[39;00m result\u001b[38;5;241m.\u001b[39mndim:\n\u001b[1;32m   5706\u001b[0m         \u001b[38;5;66;03m# Set the mask\u001b[39;00m\n\u001b[1;32m   5707\u001b[0m         result\u001b[38;5;241m.\u001b[39m__setmask__(newmask)\n",
      "File \u001b[0;32m/usr/local/lcls/package/anaconda/envs/python3.9envs/rhel7_test/lib/python3.9/site-packages/numpy/core/_methods.py:44\u001b[0m, in \u001b[0;36m_amin\u001b[0;34m(a, axis, out, keepdims, initial, where)\u001b[0m\n\u001b[1;32m     42\u001b[0m \u001b[38;5;28;01mdef\u001b[39;00m \u001b[38;5;21m_amin\u001b[39m(a, axis\u001b[38;5;241m=\u001b[39m\u001b[38;5;28;01mNone\u001b[39;00m, out\u001b[38;5;241m=\u001b[39m\u001b[38;5;28;01mNone\u001b[39;00m, keepdims\u001b[38;5;241m=\u001b[39m\u001b[38;5;28;01mFalse\u001b[39;00m,\n\u001b[1;32m     43\u001b[0m           initial\u001b[38;5;241m=\u001b[39m_NoValue, where\u001b[38;5;241m=\u001b[39m\u001b[38;5;28;01mTrue\u001b[39;00m):\n\u001b[0;32m---> 44\u001b[0m     \u001b[38;5;28;01mreturn\u001b[39;00m \u001b[43mumr_minimum\u001b[49m\u001b[43m(\u001b[49m\u001b[43ma\u001b[49m\u001b[43m,\u001b[49m\u001b[43m \u001b[49m\u001b[43maxis\u001b[49m\u001b[43m,\u001b[49m\u001b[43m \u001b[49m\u001b[38;5;28;43;01mNone\u001b[39;49;00m\u001b[43m,\u001b[49m\u001b[43m \u001b[49m\u001b[43mout\u001b[49m\u001b[43m,\u001b[49m\u001b[43m \u001b[49m\u001b[43mkeepdims\u001b[49m\u001b[43m,\u001b[49m\u001b[43m \u001b[49m\u001b[43minitial\u001b[49m\u001b[43m,\u001b[49m\u001b[43m \u001b[49m\u001b[43mwhere\u001b[49m\u001b[43m)\u001b[49m\n",
      "\u001b[0;31mTypeError\u001b[0m: '<=' not supported between instances of 'numpy.ndarray' and 'str'"
     ]
    },
    {
     "data": {
      "image/png": "[encoded data removed]",
      "text/plain": [
       "<Figure size 432x432 with 2 Axes>"
      ]
     },
     "metadata": {
      "needs_background": "light"
     },
     "output_type": "display_data"
    }
   ],
   "source": [
    "def plot_emittance_data(data, jsonfile):\n",
    "    fig, axes = plt.subplots(2, figsize=(6,6))\n",
    "    for ix, dim in enumerate(['x', 'y']):\n",
    "        ax = axes[ix]\n",
    "        \n",
    "        if dim == 'x':\n",
    "            key2 = 'screen_sigma_11'\n",
    "        else:\n",
    "            key2 = 'screen_sigma_33'\n",
    "        ylabel = rf'$\\sigma_{dim}$ ($\\mu$m)'\n",
    "        ax.errorbar(data[f'quadvals{dim}'], 1e6*np.array(data[f'beamsizes{dim}']),\n",
    "                    yerr=1e6*np.array(data[f'beamsizeserr{dim}']), fmt='o', label='Measurement' )\n",
    "        ax.plot(    data[f'quadvals{dim}'],  1e6*np.sqrt(data[key2]),  label='Model')\n",
    "        ax.set_ylabel(ylabel)\n",
    "        ax.legend()\n",
    "    axes[1].set_xlabel('Quad Strength (kG*m)')\n",
    "    axes[0].set_title(f'PyEmittance {jsonfile}')\n",
    "    plotfile = os.path.join(root, os.path.splitext(jsonfile)[0] + '-meas.png')   \n",
    "    plt.savefig(plotfile)\n",
    "    return plotfile\n",
    "\n",
    "plot_emittance_data(res, jsonfile1) "
   ]
  },
  {
   "cell_type": "code",
   "execution_count": null,
   "id": "26887e8e-6f4d-4e1b-855e-2af6456dcc60",
   "metadata": {},
   "outputs": [],
   "source": [
    "def info_text(data, jsonfile=''):\n",
    "\n",
    "    text = f\"\"\"\n",
    "    PyEmittance Measurement\n",
    "    -----------------------\n",
    "    \n",
    "    sc_inj OTR0H04\n",
    "    {jsonfile}\n",
    "    \n",
    "    Emittance x: {data['norm_emit_x']/1e-6:.3f} +/- {data['norm_emit_x_err']/1e-6:.3f} mm mrad\n",
    "    Emittance y: {data['norm_emit_y']/1e-6:.3f} +/- {data['norm_emit_y_err']/1e-6:.3f} mm mrad\n",
    "    \n",
    "    Before scanning quad:\n",
    "                    x        y\n",
    "    norm_emit  {data['norm_emit_x']/1e-6:8.2f}  {data['norm_emit_y']/1e-6:8.2f} (mm-mrad)                    \n",
    "    beta       {data['beta_x']:8.2f}  {data['beta_y']:8.2f} (m)\n",
    "    alpha      {data['alpha_x']:8.2f}  {data['alpha_y']:8.2f} (1)\n",
    "\n",
    "    \n",
    "    \"\"\"\n",
    "    \n",
    "    return text    \n",
    "    \n",
    "attachment = plot_emittance_data(res, jsonfile1)    \n",
    "entry_text = info_text(res, jsonfile1)\n",
    "print(entry_text)"
   ]
  },
  {
   "cell_type": "code",
   "execution_count": 65,
   "id": "5118c571-4405-4b40-8005-878a1c038fcd",
   "metadata": {},
   "outputs": [
    {
     "name": "stdout",
     "output_type": "stream",
     "text": [
      "/tmp/2022-12-06T01:45:03-00\n"
     ]
    },
    {
     "data": {
      "text/plain": [
       "True"
      ]
     },
     "execution_count": 65,
     "metadata": {},
     "output_type": "execute_result"
    }
   ],
   "source": [
    "import physicselog\n",
    "assert os.path.exists(attachment)\n",
    "\n",
    "physicselog.submit_entry('lcls2', username='PyEmittance', title='Emittance Measurement ', entry_text=entry_text, attachment=attachment)"
   ]
  },
  {
   "cell_type": "markdown",
   "id": "d9d71249-c704-4c6d-80db-85d80d21a51a",
   "metadata": {},
   "source": [
    "# Initial points "
   ]
  },
  {
   "cell_type": "code",
   "execution_count": 22,
   "id": "48b52bdb-e293-4c29-88b8-e681a50e1d44",
   "metadata": {},
   "outputs": [],
   "source": [
    "import epics\n",
    "from epics import caget_many\n",
    "def caget_dict(pvlist):\n",
    "    return dict(zip(pvlist, caget_many(pvlist)))"
   ]
  },
  {
   "cell_type": "code",
   "execution_count": 67,
   "id": "1e745d10-fc3d-4878-9b3f-b34da5cb3daa",
   "metadata": {},
   "outputs": [
    {
     "data": {
      "text/plain": [
       "{'QUAD:GUNB:212:1:BACT': 0.0012497801393738996,\n",
       " 'QUAD:GUNB:212:2:BACT': 0.0020049420335342726,\n",
       " 'QUAD:GUNB:823:1:BACT': 0.0003880081330240336,\n",
       " 'QUAD:GUNB:823:2:BACT': 0.000330727303638696,\n",
       " 'SOLN:GUNB:212:BACT': 0.043285030813024414,\n",
       " 'SOLN:GUNB:823:BACT': 0.024405863149830107,\n",
       " 'QUAD:HTR:120:BCTRL': -2.7}"
      ]
     },
     "execution_count": 67,
     "metadata": {},
     "output_type": "execute_result"
    }
   ],
   "source": [
    "test_pvs =     {'QUAD:GUNB:212:1:BACT': 'CQ01B (kG)',\n",
    "    'QUAD:GUNB:212:2:BACT': 'SQ01B (kG)',    \n",
    "    'QUAD:GUNB:823:1:BACT': 'CQ02B (kG)',    \n",
    "    'QUAD:GUNB:823:2:BACT': 'SC02B (kG)',\n",
    "    'SOLN:GUNB:212:BACT': 'SOL1B strength kG*m',\n",
    "    'SOLN:GUNB:823:BACT': 'SOL2B strength kG*m',\n",
    "    \"QUAD:HTR:120:BCTRL\": ''\n",
    "    }\n",
    "caget_dict(test_pvs)"
   ]
  },
  {
   "cell_type": "code",
   "execution_count": 24,
   "id": "828fe10c-bb71-4e2f-997a-1ea314232e01",
   "metadata": {},
   "outputs": [],
   "source": [
    "# Good values\n",
    "INITIAL_VARIABLES = {'QUAD:GUNB:212:1:BACT': 0.0009944871385117726,\n",
    " 'QUAD:GUNB:212:2:BACT': 0.0021005539784122946,\n",
    " 'QUAD:GUNB:823:1:BACT': 0.00013170186013684057,\n",
    " 'QUAD:GUNB:823:2:BACT': 0.000103297911652342,\n",
    " 'SOLN:GUNB:212:BACT': 0.043984256616023745,\n",
    " 'SOLN:GUNB:823:BACT': 0.024803663316553967,\n",
    " 'QUAD:HTR:120:BCTRL': -2.0}\n",
    "\n",
    "\n",
    "OLD_INITIAL_VARIABLES = {'QUAD:GUNB:212:1:BACT': 0.0009913978739450751,\n",
    " 'QUAD:GUNB:212:2:BACT': 0.0020990085813170217,\n",
    " 'QUAD:GUNB:823:1:BACT': 0.0001305887748331745,\n",
    " 'QUAD:GUNB:823:2:BACT': 0.00010046811135418729,\n",
    " 'SOLN:GUNB:212:BACT': 0.044383597628357876,\n",
    " 'SOLN:GUNB:823:BACT': 0.0250733840088283,\n",
    "\"QUAD:HTR:120:BCTRL\": -1.9924172  ,           \n",
    "                    \n",
    "                    }\n",
    "\n",
    "BEST_VARIABLES ={'QUAD:GUNB:212:1:BACT': 0.000995260157397889,\n",
    " 'QUAD:GUNB:212:2:BACT': 0.002100295004764271,\n",
    " 'QUAD:GUNB:823:1:BACT': 0.0001320632794359453,\n",
    " 'QUAD:GUNB:823:2:BACT': 0.0001043264190099633,\n",
    " 'SOLN:GUNB:212:BACT': 0.04329987587227898,\n",
    " 'SOLN:GUNB:823:BACT': 0.02440285125779409,\n",
    " 'QUAD:HTR:120:BCTRL': -2.534934796662445}\n",
    "\n",
    "BEST_AFTER_SKEW = {'QUAD:GUNB:212:1:BACT': 0.0012497801393738996,\n",
    " 'QUAD:GUNB:212:2:BACT': 0.0020049420335342726,\n",
    " 'QUAD:GUNB:823:1:BACT': 0.0003880081330240336,\n",
    " 'QUAD:GUNB:823:2:BACT': 0.000330727303638696,\n",
    " 'SOLN:GUNB:212:BACT': 0.043285030813024414,\n",
    " 'SOLN:GUNB:823:BACT': 0.024405863149830107,\n",
    " 'QUAD:HTR:120:BCTRL': -2.7}\n",
    "\n",
    " "
   ]
  },
  {
   "cell_type": "code",
   "execution_count": 53,
   "id": "dc4ce0c9-cd17-47fd-ba59-cc8bb81bdfcd",
   "metadata": {},
   "outputs": [
    {
     "name": "stdout",
     "output_type": "stream",
     "text": [
      "caput QUAD:GUNB:212:1:BCTRL 0.000995260157397889\n",
      "caput QUAD:GUNB:212:2:BCTRL 0.002100295004764271\n",
      "caput QUAD:GUNB:823:1:BCTRL 0.0001320632794359453\n",
      "caput QUAD:GUNB:823:2:BCTRL 0.0001043264190099633\n",
      "caput SOLN:GUNB:212:BCTRL 0.04329987587227898\n",
      "caput SOLN:GUNB:823:BCTRL 0.02440285125779409\n",
      "caput QUAD:HTR:120:BCTRL -2.534934796662445\n"
     ]
    }
   ],
   "source": [
    "# Reset to good \n",
    "def reset(settings=INITIAL_VARIABLES):\n",
    "    for k, v in settings.items():\n",
    "        k = k.replace('BACT', 'BCTRL')\n",
    "        print(f'caput {k} {v}')\n",
    "        epics.caput(k,v)\n",
    "reset(BEST_VARIABLES)"
   ]
  },
  {
   "cell_type": "markdown",
   "id": "abd143d1-3089-4c1c-a5c5-aa82f6806950",
   "metadata": {},
   "source": [
    "# Evaluate function"
   ]
  },
  {
   "cell_type": "code",
   "execution_count": 28,
   "id": "225ed8f7-ee95-418b-9674-e2eaf13338df",
   "metadata": {},
   "outputs": [
    {
     "data": {
      "text/plain": [
       "{'MIRR:LGUN:820:M3_MOTR_H': 4.068500000000001,\n",
       " 'MIRR:LGUN:820:M3_MOTR_V': 2.2724999999999995,\n",
       " 'OSC:LGUN:100:PHASE_SWEEP': 814427.702860398,\n",
       " 'LASR:LGUN:220:LASER_PWR_CTRL': 0.5,\n",
       " 'GUN:GUNB:100:AACT': 0.75122810144033,\n",
       " 'GUN:GUNB:100:PACT': -47.0426675389336,\n",
       " 'BPMS:GUNB:314:X': -0.2738758325576782,\n",
       " 'BPMS:GUNB:314:Y': -1.6049879789352417,\n",
       " 'BPMS:GUNB:314:TMIT': 289424288.0,\n",
       " 'QUAD:GUNB:212:1:BACT': 0.0009955159563747493,\n",
       " 'QUAD:GUNB:212:2:BACT': 0.002100295004764271,\n",
       " 'QUAD:GUNB:823:1:BACT': 0.0001325832779050267,\n",
       " 'QUAD:GUNB:823:2:BACT': 0.00010586918004639523,\n",
       " 'SOLN:GUNB:212:BACT': 0.04328354711786134,\n",
       " 'SOLN:GUNB:823:BACT': 0.024405863149830107,\n",
       " 'BPMS:GUNB:314:FW:CHRG_SLOW': 50.6591796875}"
      ]
     },
     "execution_count": 28,
     "metadata": {},
     "output_type": "execute_result"
    }
   ],
   "source": [
    "pvinfo = {\n",
    "    'MIRR:LGUN:820:M3_MOTR_H': 'laser mirror horizontal in mm',\n",
    "    'MIRR:LGUN:820:M3_MOTR_V': 'laser mirror vertical in mm',\n",
    "    'OSC:LGUN:100:PHASE_SWEEP': 'laser timing in ps',\n",
    "    'LASR:LGUN:220:LASER_PWR_CTRL': 'laser power',\n",
    "    \n",
    "    'GUN:GUNB:100:AACT': 'gun gradient',\n",
    "    'GUN:GUNB:100:PACT': 'gun phase',\n",
    "    'BPMS:GUNB:314:X': '',\n",
    "    'BPMS:GUNB:314:Y': '',\n",
    "    'BPMS:GUNB:314:TMIT': '',\n",
    "    'QUAD:GUNB:212:1:BACT': 'CQ01B (kG)',\n",
    "    'QUAD:GUNB:212:2:BACT': 'SQ01B (kG)',    \n",
    "    'QUAD:GUNB:823:1:BACT': 'CQ02B (kG)',    \n",
    "    'QUAD:GUNB:823:2:BACT': 'SC02B (kG)',\n",
    "    'SOLN:GUNB:212:BACT': 'SOL1B strength kG*m',\n",
    "    'SOLN:GUNB:823:BACT': 'SOL2B strength kG*m',\n",
    "    'BPMS:GUNB:314:FW:CHRG_SLOW': 'charge readback pC'\n",
    "}\n",
    "\n",
    "pvread = list(pvinfo)\n",
    "caget_dict(pvread)"
   ]
  },
  {
   "cell_type": "code",
   "execution_count": 29,
   "id": "5baeb9e1-4498-4b68-8616-9db1b9fc303e",
   "metadata": {},
   "outputs": [],
   "source": [
    "def merit(data):    \n",
    "    \n",
    "    output = {}\n",
    "    # Add any scalars\n",
    "    for k, v in data.items():\n",
    "        if np.isscalar(v):\n",
    "            output[k] = v\n",
    "    output['sqrt_norm_emit_xy'] = np.sqrt(data['norm_emit_x']*data['norm_emit_y'])\n",
    "\n",
    "    return output\n",
    "\n",
    "\n",
    "#merit(res)"
   ]
  },
  {
   "cell_type": "code",
   "execution_count": 37,
   "id": "1d3454a3-3a1b-43ad-a5d2-6f77041f101e",
   "metadata": {},
   "outputs": [
    {
     "data": {
      "text/plain": [
       "-2.534934796662445"
      ]
     },
     "execution_count": 37,
     "metadata": {},
     "output_type": "execute_result"
    }
   ],
   "source": [
    "caget(\"QUAD:HTR:120:BCTRL\")"
   ]
  },
  {
   "cell_type": "code",
   "execution_count": 38,
   "id": "2b037c86-b36f-4e9a-a5eb-4618d90c988d",
   "metadata": {},
   "outputs": [
    {
     "data": {
      "text/plain": [
       "1"
      ]
     },
     "execution_count": 38,
     "metadata": {},
     "output_type": "execute_result"
    }
   ],
   "source": [
    "caput(\"QUAD:HTR:120:BCTRL\", q0)   "
   ]
  },
  {
   "cell_type": "code",
   "execution_count": 39,
   "id": "da2614c5-77c9-4acc-85d2-e72dfe6b7536",
   "metadata": {},
   "outputs": [
    {
     "name": "stdout",
     "output_type": "stream",
     "text": [
      "CPU times: user 6 µs, sys: 0 ns, total: 6 µs\n",
      "Wall time: 10.5 µs\n"
     ]
    }
   ],
   "source": [
    "%%time\n",
    "def evaluate_emittance(pvset_dict):\n",
    "    for k, v in pvset_dict.items():\n",
    "        rbv = epics.caget(k)\n",
    "        print(f'CAPUT {k} {v}')\n",
    "        epics.caput(k, v)\n",
    "\n",
    "        \n",
    "    #output = caget_dict(pvread)        \n",
    "        \n",
    "    q0 = caget(\"QUAD:HTR:120:BCTRL\")\n",
    "    res = meas.measure_emittance()\n",
    "    caput(\"QUAD:HTR:120:BCTRL\", q0)        \n",
    "    output = {}\n",
    "    #output.update(caget_dict(pvread)     )\n",
    "    output.update(merit(res))\n",
    "    \n",
    "    jsonfile = [os.path.basename(x) for x in sorted(glob( \"./data_saving/saved_fits/pyemittance_data_*.json\"))][-1]\n",
    "    output['jsonfile'] = jsonfile\n",
    "    \n",
    "    #output['sqrt_norm_emit_xy'] = np.random.rand()\n",
    "        \n",
    "    return output\n",
    "    \n",
    "    \n",
    "#inputs2 =  {'SOLN:GUNB:212:BACT': 0.0437,\n",
    "# 'SOLN:GUNB:823:BACT': 0.024952834264468805}\n",
    "#res2 = evaluate_emittance(inputs2)"
   ]
  },
  {
   "cell_type": "markdown",
   "id": "736245bd-71fb-4f81-893d-b7f93991a1c1",
   "metadata": {},
   "source": [
    "# Xopt YAML"
   ]
  },
  {
   "cell_type": "code",
   "execution_count": 40,
   "id": "8d4f2c15-22a5-4829-8a0d-dafcf7a772c6",
   "metadata": {},
   "outputs": [],
   "source": [
    "from xopt import Xopt\n",
    "import yaml\n",
    "YAML = \"\"\"\n",
    "xopt: \n",
    "    dump_file: dump.yaml\n",
    "    \n",
    "evaluator:\n",
    "  function: __main__.evaluate_emittance\n",
    "\n",
    "generator:\n",
    "  name: upper_confidence_bound\n",
    "  acq:\n",
    "    beta: 0.5\n",
    "    monte_carlo_samples: 128\n",
    "    # proximal_lengthscales: [-.1, -.1]\n",
    "    use_transformed_proximal_weights: true\n",
    "  model:\n",
    "    kwargs:\n",
    "      use_conservative_prior_lengthscale: false\n",
    "      use_conservative_prior_mean: false\n",
    "      use_low_noise_prior: false\n",
    "  n_initial: 3\n",
    "  \n",
    "  optim:\n",
    "    max_travel_distances: [0.5, 0.5, 0.5, 0.5] # Adjust!\n",
    "    num_restarts: 1\n",
    "    raw_samples: 50\n",
    "    sequential: true\n",
    "    use_nearby_initial_points: true\n",
    "    \n",
    "vocs:\n",
    "  variables:\n",
    "    # Tighter ranges\n",
    "    #SOLN:GUNB:212:BCTRL: [0.042826,  0.044574]  # SOL1B (kG*m) 0.0437 nominal\n",
    "    #SOLN:GUNB:823:BCTRL: [0.0245, 0.0255]  # SOL2B (kG*m)  0.025 nominal\n",
    "    QUAD:GUNB:212:1:BCTRL: [-.005, .005]  # 'CQ01B (kG)',\n",
    "    QUAD:GUNB:212:2:BCTRL: [-.005, .005]  # 'SQ01B (kG)',    \n",
    "    QUAD:GUNB:823:1:BCTRL: [-.005, .005]  # 'CQ02B (kG)',    \n",
    "    QUAD:GUNB:823:2:BCTRL: [-.005, .005]  # 'SC02B (kG)',\n",
    "\n",
    "    \n",
    "  objectives:\n",
    "    sqrt_norm_emit_xy: 'MINIMIZE'    \n",
    "\n",
    "\"\"\"\n",
    "yaml.safe_load(YAML)\n",
    "\n",
    "X=Xopt(YAML)"
   ]
  },
  {
   "cell_type": "code",
   "execution_count": 41,
   "id": "d29e50ae-71f9-4464-a00a-411b1113897d",
   "metadata": {},
   "outputs": [
    {
     "data": {
      "text/plain": [
       "{'QUAD:GUNB:212:1:BCTRL': 0.001310063637882162,\n",
       " 'QUAD:GUNB:212:2:BCTRL': 0.0024572919433373227,\n",
       " 'QUAD:GUNB:823:1:BCTRL': 0.00020722065770191136,\n",
       " 'QUAD:GUNB:823:2:BCTRL': 0.00046683321022276015}"
      ]
     },
     "execution_count": 41,
     "metadata": {},
     "output_type": "execute_result"
    }
   ],
   "source": [
    "def nearby_points(initial_dict):\n",
    "    output = {}\n",
    "    for name, x0 in initial_dict.items():\n",
    "        name = name.replace('BACT', 'BCTRL')\n",
    "        #print(name)\n",
    "        \n",
    "        if name in X.vocs.variables:\n",
    "            xmin, xmax = X.vocs.variables[name]\n",
    "            \n",
    "            ptp = xmax - xmin\n",
    "            x1 = x0 + np.random.rand() * ptp * 0.05 # 5% of full range\n",
    "            if x1 < xmin:\n",
    "                x1 = xmin\n",
    "            if x1 > xmax:\n",
    "                x1 = xmax\n",
    "            output[name] = x1\n",
    "    return output\n",
    "    \n",
    "nearby_points(INITIAL_VARIABLES)    "
   ]
  },
  {
   "cell_type": "code",
   "execution_count": 42,
   "id": "6a14cd9e-0fdc-4e1e-a5c3-2451fffa4435",
   "metadata": {},
   "outputs": [
    {
     "data": {
      "text/plain": [
       "{'QUAD:GUNB:212:1:BACT': 0.0009944871385117726,\n",
       " 'QUAD:GUNB:212:2:BACT': 0.0021005539784122946,\n",
       " 'QUAD:GUNB:823:1:BACT': 0.00013170186013684057,\n",
       " 'QUAD:GUNB:823:2:BACT': 0.000103297911652342,\n",
       " 'SOLN:GUNB:212:BACT': 0.043984256616023745,\n",
       " 'SOLN:GUNB:823:BACT': 0.024803663316553967,\n",
       " 'QUAD:HTR:120:BCTRL': -2.0}"
      ]
     },
     "execution_count": 42,
     "metadata": {},
     "output_type": "execute_result"
    }
   ],
   "source": [
    "INITIAL_VARIABLES"
   ]
  },
  {
   "cell_type": "code",
   "execution_count": 43,
   "id": "166fd229-6434-4610-a04f-2fc42cdbee05",
   "metadata": {},
   "outputs": [
    {
     "data": {
      "text/plain": [
       "[{'QUAD:GUNB:212:1:BCTRL': 0.0010756616147485159,\n",
       "  'QUAD:GUNB:212:2:BCTRL': 0.002160120042698598,\n",
       "  'QUAD:GUNB:823:1:BCTRL': 0.0002926492522671338,\n",
       "  'QUAD:GUNB:823:2:BCTRL': 0.0004058985428866834},\n",
       " {'QUAD:GUNB:212:1:BCTRL': 0.001411217261771231,\n",
       "  'QUAD:GUNB:212:2:BCTRL': 0.0022286239098415384,\n",
       "  'QUAD:GUNB:823:1:BCTRL': 0.0003786584240296271,\n",
       "  'QUAD:GUNB:823:2:BCTRL': 0.0005996743687056683},\n",
       " {'QUAD:GUNB:212:1:BCTRL': 0.0014179962374432442,\n",
       "  'QUAD:GUNB:212:2:BCTRL': 0.002288659663158285,\n",
       "  'QUAD:GUNB:823:1:BCTRL': 0.0003585287301076072,\n",
       "  'QUAD:GUNB:823:2:BCTRL': 0.00020873308108429077}]"
      ]
     },
     "execution_count": 43,
     "metadata": {},
     "output_type": "execute_result"
    }
   ],
   "source": [
    "inputs3 = [nearby_points(INITIAL_VARIABLES) for _ in range(3)]\n",
    "inputs3"
   ]
  },
  {
   "cell_type": "code",
   "execution_count": null,
   "id": "bcdd4b24-d063-4ecb-8692-3fe1b1dc9235",
   "metadata": {},
   "outputs": [],
   "source": [
    "%%time\n",
    "X.evaluate_data(inputs3)"
   ]
  },
  {
   "cell_type": "code",
   "execution_count": null,
   "id": "4165daae-e784-4419-aa6f-7adada379002",
   "metadata": {},
   "outputs": [],
   "source": [
    "#reset()"
   ]
  },
  {
   "cell_type": "code",
   "execution_count": 49,
   "id": "e659f563-dd54-4a72-b532-8ac8adc101c7",
   "metadata": {},
   "outputs": [],
   "source": [
    "X.generator.options.optim.max_travel_distances = [0.5, 0.5, 0.5, 0.5]"
   ]
  },
  {
   "cell_type": "code",
   "execution_count": null,
   "id": "ee379f73-0af9-4ed4-89b7-6c3877b19729",
   "metadata": {},
   "outputs": [],
   "source": [
    "#X.vocs.variables['SOLN:GUNB:823:BCTRL'] = [0.0244, 0.0255]"
   ]
  },
  {
   "cell_type": "code",
   "execution_count": 56,
   "id": "b7131df5-7a3f-41ca-9119-59c7a537e5df",
   "metadata": {},
   "outputs": [
    {
     "name": "stdout",
     "output_type": "stream",
     "text": [
      "4\n",
      "CAPUT QUAD:GUNB:212:1:BCTRL -0.00017915064788502137\n",
      "CAPUT QUAD:GUNB:212:2:BCTRL 0.002356735792492939\n",
      "CAPUT QUAD:GUNB:823:1:BCTRL -5.8598011579146195e-05\n",
      "CAPUT QUAD:GUNB:823:2:BCTRL 0.00060103670869871\n",
      "Running online!\n",
      "2022-12-06_01-29-22-906845\n",
      "2022-12-06_01-29-23-842851\n",
      "2022-12-06_01-29-24-760351\n",
      "2022-12-06_01-29-27-602201\n",
      "2022-12-06_01-29-28-528878\n",
      "2022-12-06_01-29-29-519294\n",
      "Beam params out of bounds in image 2 out of 3 samples\n",
      "2022-12-06_01-29-32-454186\n",
      "2022-12-06_01-29-33-357471\n",
      "2022-12-06_01-29-34-284898\n",
      "Beam params out of bounds in image 2 out of 3 samples\n",
      "2022-12-06_01-29-37-228659\n",
      "2022-12-06_01-29-38-133395\n",
      "2022-12-06_01-29-39-055912\n",
      "2022-12-06_01-29-42-060825\n",
      "Beam params out of bounds in image 0 out of 3 samples\n",
      "2022-12-06_01-29-42-986962\n",
      "Beam params out of bounds in image 1 out of 3 samples\n",
      "2022-12-06_01-29-43-891729\n",
      "Resampled 0 times, beam still out of bounds \n",
      "\n",
      "xrms 4.58 um, yrms 209.29 um (threshold: min_rms 60.60 um, max_rms 14140.00 um)\n",
      "xamp 6065.43, yamp 2596.80 (amp_thresh: 150, in json)\n",
      "area_x 909814.1, area_y 389520.1 (threshold: 1500, hardcoded)\n",
      "\n",
      "Returning NaNs\n",
      "2022-12-06_01-29-46-968123\n",
      "Beam params out of bounds in image 0 out of 3 samples\n",
      "2022-12-06_01-29-47-905648\n",
      "2022-12-06_01-29-48-822304\n",
      "2022-12-06_01-29-51-728932\n",
      "2022-12-06_01-29-52-750851\n",
      "Beam params out of bounds in image 1 out of 3 samples\n",
      "2022-12-06_01-29-53-773595\n",
      "Beam params out of bounds in image 2 out of 3 samples\n",
      "2022-12-06_01-29-56-631432\n",
      "2022-12-06_01-29-57-558984\n",
      "2022-12-06_01-29-58-505777\n",
      "2022-12-06_01-30-01-477651\n",
      "2022-12-06_01-30-02-378867\n",
      "2022-12-06_01-30-03-302476\n",
      "2022-12-06_01-30-06-215900\n",
      "2022-12-06_01-30-07-131482\n",
      "2022-12-06_01-30-08-038196\n",
      "2022-12-06_01-30-10-936177\n",
      "2022-12-06_01-30-11-858567\n",
      "2022-12-06_01-30-12-764167\n",
      "2022-12-06_01-30-15-609239\n",
      "Beam params out of bounds in image 0 out of 3 samples\n",
      "2022-12-06_01-30-16-542666\n",
      "2022-12-06_01-30-17-461388\n",
      "2022-12-06_01-30-20-390735\n",
      "Beam params out of bounds in image 0 out of 3 samples\n",
      "2022-12-06_01-30-21-308829\n",
      "Beam params out of bounds in image 1 out of 3 samples\n",
      "2022-12-06_01-30-22-252663\n",
      "Resampled 0 times, beam still out of bounds \n",
      "\n",
      "xrms 5.47 um, yrms 170.42 um (threshold: min_rms 60.60 um, max_rms 14140.00 um)\n",
      "xamp 7552.82, yamp 2921.06 (amp_thresh: 150, in json)\n",
      "area_x 1132922.6, area_y 438158.5 (threshold: 1500, hardcoded)\n",
      "\n",
      "Returning NaNs\n",
      "2022-12-06_01-30-25-286496\n",
      "Beam params out of bounds in image 0 out of 3 samples\n",
      "2022-12-06_01-30-28-852347\n",
      "Beam params out of bounds in image 1 out of 3 samples\n",
      "2022-12-06_01-30-29-917488\n",
      "2022-12-06_01-30-32-872061\n",
      "2022-12-06_01-30-33-798108\n",
      "2022-12-06_01-30-34-695310\n",
      "2022-12-06_01-30-37-570455\n",
      "2022-12-06_01-30-38-483968\n",
      "2022-12-06_01-30-39-382044\n",
      "2022-12-06_01-30-42-422816\n",
      "2022-12-06_01-30-43-353611\n",
      "2022-12-06_01-30-44-246981\n",
      "2022-12-06_01-30-47-252611\n",
      "2022-12-06_01-30-48-161718\n",
      "2022-12-06_01-30-49-069562\n",
      "2022-12-06_01-30-52-110124\n",
      "2022-12-06_01-30-53-076491\n",
      "2022-12-06_01-30-54-068116\n",
      "Beam params out of bounds in image 2 out of 3 samples\n",
      "Resampled 0 times, beam still out of bounds \n",
      "\n",
      "xrms 8.68 um, yrms 179.51 um (threshold: min_rms 60.60 um, max_rms 14140.00 um)\n",
      "xamp 3077.03, yamp 2979.22 (amp_thresh: 150, in json)\n",
      "area_x 461555.0, area_y 446882.9 (threshold: 1500, hardcoded)\n",
      "\n",
      "Returning NaNs\n",
      "2022-12-06_01-30-57-082151\n",
      "2022-12-06_01-30-57-992637\n",
      "2022-12-06_01-30-58-910882\n",
      "Beam params out of bounds in image 2 out of 3 samples\n",
      "2022-12-06_01-31-01-945543\n",
      "Beam params out of bounds in image 0 out of 3 samples\n",
      "2022-12-06_01-31-02-863278\n",
      "2022-12-06_01-31-03-756051\n",
      "2022-12-06_01-31-06-658920\n",
      "Beam params out of bounds in image 0 out of 3 samples\n",
      "2022-12-06_01-31-08-315906\n",
      "Beam params out of bounds in image 1 out of 3 samples\n",
      "2022-12-06_01-31-09-301615\n",
      "2022-12-06_01-31-12-335493\n",
      "2022-12-06_01-31-13-424398\n",
      "Beam params out of bounds in image 1 out of 3 samples\n",
      "2022-12-06_01-31-14-442626\n",
      "2022-12-06_01-31-17-549831\n",
      "2022-12-06_01-31-18-502743\n",
      "2022-12-06_01-31-19-418973\n",
      "2022-12-06_01-31-22-492249\n",
      "Beam params out of bounds in image 0 out of 3 samples\n",
      "2022-12-06_01-31-23-506318\n",
      "2022-12-06_01-31-24-521884\n",
      "Beam params out of bounds in image 2 out of 3 samples\n",
      "2022-12-06_01-31-27-506561\n",
      "2022-12-06_01-31-28-469243\n",
      "Beam params out of bounds in image 1 out of 3 samples\n",
      "2022-12-06_01-31-29-445061\n",
      "2022-12-06_01-31-32-601178\n",
      "Beam params out of bounds in image 0 out of 3 samples\n",
      "2022-12-06_01-31-33-629504\n",
      "Beam params out of bounds in image 1 out of 3 samples\n",
      "2022-12-06_01-31-34-562864\n",
      "Beam params out of bounds in image 2 out of 3 samples\n"
     ]
    },
    {
     "data": {
      "image/png": "[encoded data removed]",
      "text/plain": [
       "<Figure size 432x288 with 1 Axes>"
      ]
     },
     "metadata": {
      "needs_background": "light"
     },
     "output_type": "display_data"
    },
    {
     "data": {
      "image/png": "[encoded data removed]",
      "text/plain": [
       "<Figure size 432x288 with 1 Axes>"
      ]
     },
     "metadata": {
      "needs_background": "light"
     },
     "output_type": "display_data"
    },
    {
     "name": "stdout",
     "output_type": "stream",
     "text": [
      "1     4.262777e-07\n",
      "2     4.816144e-07\n",
      "3     4.413315e-07\n",
      "4     5.900198e-06\n",
      "5     5.580299e-07\n",
      "6     8.492409e-07\n",
      "7     7.638231e-07\n",
      "8     4.654890e-07\n",
      "9     4.492581e-07\n",
      "10    4.983787e-07\n",
      "11    4.464801e-07\n",
      "13             NaN\n",
      "14             NaN\n",
      "16    6.428760e-07\n",
      "Name: sqrt_norm_emit_xy, dtype: float64 1     3.450860e-07\n",
      "2     4.141893e-07\n",
      "3     3.996521e-07\n",
      "4     8.613015e-06\n",
      "5     6.877820e-07\n",
      "6     8.838316e-07\n",
      "7     6.430584e-07\n",
      "8     5.333375e-07\n",
      "9     4.209696e-07\n",
      "10    3.600092e-07\n",
      "11    4.354763e-07\n",
      "13             NaN\n",
      "14             NaN\n",
      "16    6.551586e-07\n",
      "Name: norm_emit_x, dtype: float64 1     5.265720e-07\n",
      "2     5.600154e-07\n",
      "3     4.873575e-07\n",
      "4     4.041829e-06\n",
      "5     4.527559e-07\n",
      "6     8.160040e-07\n",
      "7     9.072670e-07\n",
      "8     4.062718e-07\n",
      "9     4.794475e-07\n",
      "10    6.899303e-07\n",
      "11    4.577620e-07\n",
      "13             NaN\n",
      "14             NaN\n",
      "16    6.308236e-07\n",
      "Name: norm_emit_y, dtype: float64\n",
      "4\n",
      "CAPUT QUAD:GUNB:212:1:BCTRL 0.0014005498735833724\n",
      "CAPUT QUAD:GUNB:212:2:BCTRL 0.002571475027456332\n",
      "CAPUT QUAD:GUNB:823:1:BCTRL 0.00020377343662094277\n",
      "CAPUT QUAD:GUNB:823:2:BCTRL 0.00035263355490104177\n",
      "Running online!\n",
      "2022-12-06_01-31-44-637525\n",
      "2022-12-06_01-31-45-629398\n",
      "Beam params out of bounds in image 1 out of 3 samples\n",
      "2022-12-06_01-31-46-612241\n",
      "Beam params out of bounds in image 2 out of 3 samples\n",
      "2022-12-06_01-31-49-588396\n",
      "2022-12-06_01-31-50-530693\n",
      "2022-12-06_01-31-51-491819\n",
      "2022-12-06_01-31-54-481365\n",
      "2022-12-06_01-31-55-378512\n",
      "2022-12-06_01-31-56-290775\n",
      "2022-12-06_01-31-59-335165\n",
      "2022-12-06_01-32-00-251906\n",
      "2022-12-06_01-32-02-428758\n",
      "Beam params out of bounds in image 2 out of 3 samples\n",
      "2022-12-06_01-32-05-444600\n",
      "2022-12-06_01-32-06-409465\n",
      "2022-12-06_01-32-07-378983\n",
      "2022-12-06_01-32-10-418090\n",
      "2022-12-06_01-32-11-354154\n",
      "Beam params out of bounds in image 1 out of 3 samples\n",
      "2022-12-06_01-32-12-259960\n",
      "2022-12-06_01-32-15-247656\n",
      "2022-12-06_01-32-16-186708\n",
      "2022-12-06_01-32-17-169187\n",
      "2022-12-06_01-32-20-173478\n",
      "2022-12-06_01-32-21-156259\n",
      "2022-12-06_01-32-22-100208\n",
      "2022-12-06_01-32-25-088747\n",
      "2022-12-06_01-32-26-065608\n",
      "Beam params out of bounds in image 1 out of 3 samples\n",
      "2022-12-06_01-32-27-010222\n",
      "2022-12-06_01-32-30-476778\n",
      "2022-12-06_01-32-31-445538\n",
      "2022-12-06_01-32-32-405982\n",
      "2022-12-06_01-32-35-415168\n",
      "2022-12-06_01-32-36-353267\n",
      "2022-12-06_01-32-37-306997\n",
      "2022-12-06_01-32-40-316135\n",
      "2022-12-06_01-32-41-270597\n",
      "2022-12-06_01-32-42-240631\n",
      "Beam params out of bounds in image 2 out of 3 samples\n",
      "2022-12-06_01-32-45-263025\n",
      "2022-12-06_01-32-46-214950\n",
      "Beam params out of bounds in image 1 out of 3 samples\n",
      "2022-12-06_01-32-47-172716\n",
      "Resampled 0 times, beam still out of bounds \n",
      "\n",
      "xrms 7.58 um, yrms 266.80 um (threshold: min_rms 60.60 um, max_rms 14140.00 um)\n",
      "xamp 3379.59, yamp 2038.93 (amp_thresh: 150, in json)\n",
      "area_x 506939.2, area_y 305838.8 (threshold: 1500, hardcoded)\n",
      "\n",
      "Returning NaNs\n",
      "2022-12-06_01-32-50-209984\n",
      "2022-12-06_01-32-51-182047\n",
      "2022-12-06_01-32-52-148127\n",
      "2022-12-06_01-32-55-177630\n",
      "2022-12-06_01-32-56-135646\n",
      "2022-12-06_01-32-57-084944\n",
      "2022-12-06_01-33-00-230371\n",
      "2022-12-06_01-33-01-202707\n",
      "2022-12-06_01-33-02-142575\n",
      "2022-12-06_01-33-05-570643\n",
      "2022-12-06_01-33-06-462893\n",
      "2022-12-06_01-33-07-381218\n",
      "2022-12-06_01-33-10-419840\n",
      "2022-12-06_01-33-11-405075\n",
      "2022-12-06_01-33-12-343642\n",
      "2022-12-06_01-33-15-315045\n",
      "2022-12-06_01-33-16-248194\n",
      "2022-12-06_01-33-17-198197\n",
      "2022-12-06_01-33-20-264927\n",
      "Beam params out of bounds in image 0 out of 3 samples\n",
      "2022-12-06_01-33-21-204716\n",
      "2022-12-06_01-33-22-123289\n",
      "2022-12-06_01-33-25-135864\n",
      "2022-12-06_01-33-26-037840\n",
      "2022-12-06_01-33-26-971736\n",
      "2022-12-06_01-33-29-986267\n",
      "Beam params out of bounds in image 0 out of 3 samples\n",
      "2022-12-06_01-33-30-929967\n",
      "Beam params out of bounds in image 1 out of 3 samples\n",
      "2022-12-06_01-33-31-876307\n",
      "2022-12-06_01-33-34-863377\n",
      "2022-12-06_01-33-35-839201\n",
      "Beam params out of bounds in image 1 out of 3 samples\n",
      "2022-12-06_01-33-36-741090\n",
      "Beam params out of bounds in image 2 out of 3 samples\n",
      "2022-12-06_01-33-39-758605\n",
      "Beam params out of bounds in image 0 out of 3 samples\n",
      "2022-12-06_01-33-40-633754\n",
      "Beam params out of bounds in image 1 out of 3 samples\n",
      "2022-12-06_01-33-41-606099\n",
      "Beam params out of bounds in image 2 out of 3 samples\n",
      "Resampled 0 times, beam still out of bounds \n",
      "\n",
      "xrms 276.48 um, yrms 5.17 um (threshold: min_rms 60.60 um, max_rms 14140.00 um)\n",
      "xamp 902.33, yamp 3294.00 (amp_thresh: 150, in json)\n",
      "area_x 135350.0, area_y 494099.9 (threshold: 1500, hardcoded)\n",
      "\n",
      "Returning NaNs\n",
      "2022-12-06_01-33-44-630297\n",
      "Beam params out of bounds in image 0 out of 3 samples\n",
      "2022-12-06_01-33-46-280227\n",
      "Beam params out of bounds in image 1 out of 3 samples\n",
      "2022-12-06_01-33-47-237159\n",
      "Beam params out of bounds in image 2 out of 3 samples\n",
      "Resampled 0 times, beam still out of bounds \n",
      "\n",
      "xrms 8.68 um, yrms 251.28 um (threshold: min_rms 60.60 um, max_rms 14140.00 um)\n",
      "xamp 4164.43, yamp 694.41 (amp_thresh: 150, in json)\n",
      "area_x 624663.8, area_y 104161.7 (threshold: 1500, hardcoded)\n",
      "\n",
      "Returning NaNs\n",
      "2022-12-06_01-33-50-253697\n",
      "Beam params out of bounds in image 0 out of 3 samples\n",
      "2022-12-06_01-33-51-214651\n",
      "2022-12-06_01-33-52-144570\n",
      "2022-12-06_01-33-55-108802\n",
      "Beam params out of bounds in image 0 out of 3 samples\n",
      "2022-12-06_01-33-56-067759\n",
      "2022-12-06_01-33-56-983007\n"
     ]
    },
    {
     "data": {
      "image/png": "[encoded data removed]",
      "text/plain": [
       "<Figure size 432x288 with 1 Axes>"
      ]
     },
     "metadata": {
      "needs_background": "light"
     },
     "output_type": "display_data"
    },
    {
     "name": "stdout",
     "output_type": "stream",
     "text": [
      "2022-12-06_01-34-00-180307\n",
      "2022-12-06_01-34-01-113404\n",
      "2022-12-06_01-34-02-056005\n"
     ]
    },
    {
     "data": {
      "image/png": "[encoded data removed]",
      "text/plain": [
       "<Figure size 432x288 with 1 Axes>"
      ]
     },
     "metadata": {
      "needs_background": "light"
     },
     "output_type": "display_data"
    },
    {
     "data": {
      "image/png": "[encoded data removed]",
      "text/plain": [
       "<Figure size 432x288 with 1 Axes>"
      ]
     },
     "metadata": {
      "needs_background": "light"
     },
     "output_type": "display_data"
    },
    {
     "name": "stdout",
     "output_type": "stream",
     "text": [
      "1     4.262777e-07\n",
      "2     4.816144e-07\n",
      "3     4.413315e-07\n",
      "4     5.900198e-06\n",
      "5     5.580299e-07\n",
      "6     8.492409e-07\n",
      "7     7.638231e-07\n",
      "8     4.654890e-07\n",
      "9     4.492581e-07\n",
      "10    4.983787e-07\n",
      "11    4.464801e-07\n",
      "13             NaN\n",
      "14             NaN\n",
      "16    6.428760e-07\n",
      "17    4.467609e-07\n",
      "Name: sqrt_norm_emit_xy, dtype: float64 1     3.450860e-07\n",
      "2     4.141893e-07\n",
      "3     3.996521e-07\n",
      "4     8.613015e-06\n",
      "5     6.877820e-07\n",
      "6     8.838316e-07\n",
      "7     6.430584e-07\n",
      "8     5.333375e-07\n",
      "9     4.209696e-07\n",
      "10    3.600092e-07\n",
      "11    4.354763e-07\n",
      "13             NaN\n",
      "14             NaN\n",
      "16    6.551586e-07\n",
      "17    4.113438e-07\n",
      "Name: norm_emit_x, dtype: float64 1     5.265720e-07\n",
      "2     5.600154e-07\n",
      "3     4.873575e-07\n",
      "4     4.041829e-06\n",
      "5     4.527559e-07\n",
      "6     8.160040e-07\n",
      "7     9.072670e-07\n",
      "8     4.062718e-07\n",
      "9     4.794475e-07\n",
      "10    6.899303e-07\n",
      "11    4.577620e-07\n",
      "13             NaN\n",
      "14             NaN\n",
      "16    6.308236e-07\n",
      "17    4.852274e-07\n",
      "Name: norm_emit_y, dtype: float64\n",
      "4\n",
      "CAPUT QUAD:GUNB:212:1:BCTRL 0.0012479800526105718\n",
      "CAPUT QUAD:GUNB:212:2:BCTRL 0.00200387538139165\n",
      "CAPUT QUAD:GUNB:823:1:BCTRL 0.00038800501840886137\n",
      "CAPUT QUAD:GUNB:823:2:BCTRL 0.0003289645987286894\n",
      "Running online!\n",
      "2022-12-06_01-34-11-264395\n",
      "2022-12-06_01-34-12-189161\n",
      "2022-12-06_01-34-13-108599\n",
      "2022-12-06_01-34-16-103303\n",
      "2022-12-06_01-34-17-038273\n",
      "2022-12-06_01-34-17-930737\n",
      "2022-12-06_01-34-20-900809\n",
      "2022-12-06_01-34-21-780371\n",
      "2022-12-06_01-34-22-745324\n",
      "2022-12-06_01-34-25-634196\n",
      "2022-12-06_01-34-26-540999\n",
      "2022-12-06_01-34-27-490548\n",
      "2022-12-06_01-34-30-540365\n",
      "Beam params out of bounds in image 0 out of 3 samples\n",
      "2022-12-06_01-34-31-475803\n",
      "2022-12-06_01-34-32-407667\n",
      "2022-12-06_01-34-35-428144\n",
      "2022-12-06_01-34-36-370419\n",
      "2022-12-06_01-34-37-323910\n",
      "Beam params out of bounds in image 2 out of 3 samples\n",
      "2022-12-06_01-34-41-333665\n",
      "2022-12-06_01-34-42-399623\n",
      "Beam params out of bounds in image 1 out of 3 samples\n",
      "2022-12-06_01-34-43-342807\n",
      "2022-12-06_01-34-46-312743\n",
      "2022-12-06_01-34-47-267904\n",
      "2022-12-06_01-34-48-226527\n",
      "2022-12-06_01-34-51-298410\n",
      "Beam params out of bounds in image 0 out of 3 samples\n",
      "2022-12-06_01-34-52-225638\n",
      "2022-12-06_01-34-53-175238\n",
      "2022-12-06_01-34-56-129317\n",
      "2022-12-06_01-34-57-055911\n",
      "2022-12-06_01-34-57-951969\n",
      "2022-12-06_01-35-00-880590\n",
      "2022-12-06_01-35-01-807743\n",
      "2022-12-06_01-35-02-671296\n",
      "2022-12-06_01-35-05-555275\n",
      "2022-12-06_01-35-06-481729\n",
      "2022-12-06_01-35-07-434399\n",
      "2022-12-06_01-35-10-409707\n",
      "2022-12-06_01-35-11-709279\n",
      "Beam params out of bounds in image 1 out of 3 samples\n",
      "2022-12-06_01-35-12-646852\n",
      "2022-12-06_01-35-15-559584\n",
      "2022-12-06_01-35-16-560175\n",
      "Beam params out of bounds in image 1 out of 3 samples\n",
      "2022-12-06_01-35-17-478154\n",
      "2022-12-06_01-35-20-513413\n",
      "2022-12-06_01-35-21-453628\n",
      "2022-12-06_01-35-22-413618\n",
      "2022-12-06_01-35-25-373761\n",
      "2022-12-06_01-35-26-318033\n",
      "2022-12-06_01-35-27-258904\n",
      "Beam params out of bounds in image 2 out of 3 samples\n",
      "2022-12-06_01-35-30-221559\n",
      "2022-12-06_01-35-31-158520\n",
      "2022-12-06_01-35-32-088466\n",
      "2022-12-06_01-35-35-038118\n",
      "2022-12-06_01-35-35-981293\n",
      "2022-12-06_01-35-36-925086\n",
      "2022-12-06_01-35-39-900633\n",
      "2022-12-06_01-35-40-828803\n",
      "2022-12-06_01-35-41-751108\n",
      "2022-12-06_01-35-44-616558\n",
      "2022-12-06_01-35-45-575196\n",
      "2022-12-06_01-35-46-491860\n",
      "2022-12-06_01-35-49-894919\n",
      "2022-12-06_01-35-50-805973\n",
      "2022-12-06_01-35-51-748959\n",
      "2022-12-06_01-35-54-654578\n",
      "2022-12-06_01-35-55-612690\n",
      "2022-12-06_01-35-56-551619\n",
      "Beam params out of bounds in image 2 out of 3 samples\n",
      "2022-12-06_01-35-59-576898\n",
      "Beam params out of bounds in image 0 out of 3 samples\n",
      "2022-12-06_01-36-00-578146\n",
      "Beam params out of bounds in image 1 out of 3 samples\n",
      "2022-12-06_01-36-01-507315\n"
     ]
    },
    {
     "data": {
      "image/png": "[encoded data removed]",
      "text/plain": [
       "<Figure size 432x288 with 1 Axes>"
      ]
     },
     "metadata": {
      "needs_background": "light"
     },
     "output_type": "display_data"
    },
    {
     "name": "stdout",
     "output_type": "stream",
     "text": [
      "2022-12-06_01-36-04-772362\n",
      "2022-12-06_01-36-05-716593\n",
      "2022-12-06_01-36-06-666831\n"
     ]
    },
    {
     "data": {
      "image/png": "[encoded data removed]",
      "text/plain": [
       "<Figure size 432x288 with 1 Axes>"
      ]
     },
     "metadata": {
      "needs_background": "light"
     },
     "output_type": "display_data"
    },
    {
     "data": {
      "image/png": "[encoded data removed]",
      "text/plain": [
       "<Figure size 432x288 with 1 Axes>"
      ]
     },
     "metadata": {
      "needs_background": "light"
     },
     "output_type": "display_data"
    },
    {
     "name": "stdout",
     "output_type": "stream",
     "text": [
      "1     4.262777e-07\n",
      "2     4.816144e-07\n",
      "3     4.413315e-07\n",
      "4     5.900198e-06\n",
      "5     5.580299e-07\n",
      "6     8.492409e-07\n",
      "7     7.638231e-07\n",
      "8     4.654890e-07\n",
      "9     4.492581e-07\n",
      "10    4.983787e-07\n",
      "11    4.464801e-07\n",
      "13             NaN\n",
      "14             NaN\n",
      "16    6.428760e-07\n",
      "17    4.467609e-07\n",
      "18    5.362840e-07\n",
      "Name: sqrt_norm_emit_xy, dtype: float64 1     3.450860e-07\n",
      "2     4.141893e-07\n",
      "3     3.996521e-07\n",
      "4     8.613015e-06\n",
      "5     6.877820e-07\n",
      "6     8.838316e-07\n",
      "7     6.430584e-07\n",
      "8     5.333375e-07\n",
      "9     4.209696e-07\n",
      "10    3.600092e-07\n",
      "11    4.354763e-07\n",
      "13             NaN\n",
      "14             NaN\n",
      "16    6.551586e-07\n",
      "17    4.113438e-07\n",
      "18    5.549928e-07\n",
      "Name: norm_emit_x, dtype: float64 1     5.265720e-07\n",
      "2     5.600154e-07\n",
      "3     4.873575e-07\n",
      "4     4.041829e-06\n",
      "5     4.527559e-07\n",
      "6     8.160040e-07\n",
      "7     9.072670e-07\n",
      "8     4.062718e-07\n",
      "9     4.794475e-07\n",
      "10    6.899303e-07\n",
      "11    4.577620e-07\n",
      "13             NaN\n",
      "14             NaN\n",
      "16    6.308236e-07\n",
      "17    4.852274e-07\n",
      "18    5.182057e-07\n",
      "Name: norm_emit_y, dtype: float64\n",
      "CPU times: user 8min 10s, sys: 33 s, total: 8min 43s\n",
      "Wall time: 6min 52s\n"
     ]
    }
   ],
   "source": [
    "%%time\n",
    "for i in range(3):\n",
    "    X.step()\n",
    "    X.dump_state()\n",
    "    print(X.data['sqrt_norm_emit_xy'], X.data['norm_emit_x'], X.data['norm_emit_y'])"
   ]
  },
  {
   "cell_type": "code",
   "execution_count": null,
   "id": "500da956-e9ce-4d9b-8bc2-80078a9bbb41",
   "metadata": {},
   "outputs": [],
   "source": [
    "X.data['sqrt_norm_emit_xy']"
   ]
  },
  {
   "cell_type": "code",
   "execution_count": null,
   "id": "c6f6b2b2-f962-448a-a94f-f7221511adce",
   "metadata": {},
   "outputs": [],
   "source": []
  },
  {
   "cell_type": "code",
   "execution_count": null,
   "id": "e12dcdc0-c194-4270-9aa0-6329bf7fb613",
   "metadata": {},
   "outputs": [],
   "source": [
    "reset()"
   ]
  },
  {
   "cell_type": "code",
   "execution_count": null,
   "id": "0ef06384-a8fe-44ec-b769-6b722798d55e",
   "metadata": {},
   "outputs": [],
   "source": [
    "fig, ax = plt.subplots()\n",
    "for k in ('norm_emit_x', 'norm_emit_y'):\n",
    "    ax.plot(X.data[k]*1e6, label=k, marker='x')\n",
    "ax.set_ylabel('Measured emittance (mm-mrad)')\n",
    "ax.set_xlabel('Xopt iteration')\n",
    "plt.legend()\n",
    "ax.set_ylim(0, None)"
   ]
  },
  {
   "cell_type": "code",
   "execution_count": null,
   "id": "73dfc51b-a8fa-4b7c-8300-e37c895774ea",
   "metadata": {},
   "outputs": [],
   "source": [
    "X.dump_state()"
   ]
  },
  {
   "cell_type": "code",
   "execution_count": null,
   "id": "648c1689-d88f-4c8d-a596-30eb1300859c",
   "metadata": {},
   "outputs": [],
   "source": [
    "X.vocs"
   ]
  },
  {
   "cell_type": "code",
   "execution_count": null,
   "id": "2d68af08-6983-4afe-981e-b8b780fac846",
   "metadata": {},
   "outputs": [],
   "source": [
    "!pwd"
   ]
  }
 ],
 "metadata": {
  "kernelspec": {
   "display_name": "Python 3 (ipykernel)",
   "language": "python",
   "name": "python3"
  },
  "language_info": {
   "codemirror_mode": {
    "name": "ipython",
    "version": 3
   },
   "file_extension": ".py",
   "mimetype": "text/x-python",
   "name": "python",
   "nbconvert_exporter": "python",
   "pygments_lexer": "ipython3",
   "version": "3.9.12"
  }
 },
 "nbformat": 4,
 "nbformat_minor": 5
}
