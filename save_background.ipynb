{
 "cells": [
  {
   "cell_type": "markdown",
   "id": "32f1a802-67a5-4e16-a7a6-8e8bfdae6b7b",
   "metadata": {},
   "source": [
    "# Don't forget to block the beam first "
   ]
  },
  {
   "cell_type": "code",
   "execution_count": 22,
   "id": "e34ec834-8f25-4500-8af8-8b3bf3248337",
   "metadata": {},
   "outputs": [],
   "source": [
    "from epics import caput"
   ]
  },
  {
   "cell_type": "code",
   "execution_count": 23,
   "id": "ea2cd8f1-9df7-4179-b0af-ffc614dab23b",
   "metadata": {},
   "outputs": [],
   "source": [
    "import os\n",
    "image_path = os.getcwd()+'/bg_images/'\n",
    "assert os.path.exists(image_path)"
   ]
  },
  {
   "cell_type": "code",
   "execution_count": 24,
   "id": "8b5adfdd-1c1a-47da-8be6-378bddd1f4a2",
   "metadata": {},
   "outputs": [
    {
     "data": {
      "text/plain": [
       "1"
      ]
     },
     "execution_count": 24,
     "metadata": {},
     "output_type": "execute_result"
    }
   ],
   "source": [
    "# Block the beam\n",
    "caput(\"TPR:LGUN:TS01:0:TRG00_SYS2_TCTL\", 0)"
   ]
  },
  {
   "cell_type": "code",
   "execution_count": 25,
   "id": "9b5de48f-84ad-4643-9d45-2d8aa342e570",
   "metadata": {},
   "outputs": [
    {
     "name": "stdout",
     "output_type": "stream",
     "text": [
      "2022-12-06_01-27-49-134690\n",
      "Beam params out of bounds in image 0 out of 1 samples\n",
      "Beam params out of bounds in averaged image\n",
      "Resampled 0 times, beam still out of bounds \n",
      "\n",
      "xrms 5.05 um, yrms 51.29 um (threshold: min_rms 60.60 um, max_rms 14140.00 um)\n",
      "xamp 41196.34, yamp 1548.92 (amp_thresh: 150, in json)\n",
      "area_x 6179451.2, area_y 232337.8 (threshold: 1500, hardcoded)\n",
      "\n",
      "Returning NaNs\n"
     ]
    },
    {
     "data": {
      "text/plain": [
       "(nan, nan, nan, nan)"
      ]
     },
     "execution_count": 25,
     "metadata": {},
     "output_type": "execute_result"
    }
   ],
   "source": [
    "from pyemittance import PyEmittance\n",
    "from pyemittance.otrs_io import get_beamsizes_otrs\n",
    "import numpy as np\n",
    "\n",
    "meas = PyEmittance(config_name='LCLS2_OTR3', online=False)\n",
    "meas.config_dict['savepaths']['images'] = image_path\n",
    "\n",
    "# turn off bg subtraction\n",
    "meas.config_dict['img_proc']['subtract_bg'] = False\n",
    "\n",
    "# take image\n",
    "get_beamsizes_otrs(meas.config_dict)"
   ]
  },
  {
   "cell_type": "code",
   "execution_count": 26,
   "id": "fa0fe244-9e8e-4c04-bcf9-90f850c00b50",
   "metadata": {},
   "outputs": [
    {
     "data": {
      "text/plain": [
       "1"
      ]
     },
     "execution_count": 26,
     "metadata": {},
     "output_type": "execute_result"
    }
   ],
   "source": [
    "caput(\"TPR:LGUN:TS01:0:TRG00_SYS2_TCTL\", 1)"
   ]
  },
  {
   "cell_type": "markdown",
   "id": "09825f46-6f0b-4318-8b4d-93256a7a15a7",
   "metadata": {},
   "source": [
    "####  Then, in `Measurement.py`, write image name as: `/home/physics3/ml_tuning/20221026_LCLS2_new_pyemittance_test/bg_images/img_avg_TIMESTAMP.npy` \n",
    "(replace timestamp with actual path name of latest img_avg_*.npy image)"
   ]
  },
  {
   "cell_type": "code",
   "execution_count": null,
   "id": "97d8ce80-8494-4746-a10c-3f0d07d812c9",
   "metadata": {},
   "outputs": [],
   "source": [
    "#Example: \n",
    "# /home/physics3/ml_tuning/20221026_LCLS2_new_pyemittance_test/bg_images/img_avg_2022-10-29_20-47-50-163278.npy"
   ]
  }
 ],
 "metadata": {
  "kernelspec": {
   "display_name": "Python 3 (ipykernel)",
   "language": "python",
   "name": "python3"
  },
  "language_info": {
   "codemirror_mode": {
    "name": "ipython",
    "version": 3
   },
   "file_extension": ".py",
   "mimetype": "text/x-python",
   "name": "python",
   "nbconvert_exporter": "python",
   "pygments_lexer": "ipython3",
   "version": "3.9.12"
  }
 },
 "nbformat": 4,
 "nbformat_minor": 5
}
